{
 "cells": [
  {
   "cell_type": "code",
   "execution_count": 47,
   "metadata": {},
   "outputs": [],
   "source": [
    "# Path Planning Testing"
   ]
  },
  {
   "cell_type": "code",
   "execution_count": 48,
   "metadata": {},
   "outputs": [],
   "source": [
    "from __init__ import *\n",
    "import chess\n",
    "from matplotlib import pyplot as plt\n",
    "board = WizBoard()\n",
    "planner = PathPlanner(board)"
   ]
  },
  {
   "cell_type": "code",
   "execution_count": 49,
   "metadata": {},
   "outputs": [],
   "source": [
    "def plot_path(waypoints:list[Waypoint]):\n",
    "    plt.figure(figsize=(3,3))\n",
    "    plt.axis([0,8,0,8])\n",
    "    plt.plot([point.point[0] for point in waypoints], [point.point[1] for point in waypoints], 'bo')"
   ]
  },
  {
   "cell_type": "code",
   "execution_count": 50,
   "metadata": {},
   "outputs": [
    {
     "data": {
      "image/png": "[encoded data removed]",
      "text/plain": [
       "<Figure size 300x300 with 1 Axes>"
      ]
     },
     "metadata": {},
     "output_type": "display_data"
    }
   ],
   "source": [
    "move = chess.Move.from_uci('d5f6')\n",
    "end_square = move.to_square\n",
    "start_square = move.from_square\n",
    "listOfPoints = planner.single_path(chess.KNIGHT, start_square, end_square, False)\n",
    "waypoints = []\n",
    "waypoints += [Waypoint(board.piece_list[move.from_square], point) for point in listOfPoints]\n",
    "\n",
    "#points = planner.turn_paths(chess.Move.from_uci('b1c3'))\n",
    "# Plotting\n",
    "plot_path(waypoints)"
   ]
  }
 ],
 "metadata": {
  "kernelspec": {
   "display_name": "venv",
   "language": "python",
   "name": "python3"
  },
  "language_info": {
   "codemirror_mode": {
    "name": "ipython",
    "version": 3
   },
   "file_extension": ".py",
   "mimetype": "text/x-python",
   "name": "python",
   "nbconvert_exporter": "python",
   "pygments_lexer": "ipython3",
   "version": "3.11.6"
  }
 },
 "nbformat": 4,
 "nbformat_minor": 2
}
