{
 "cells": [
  {
   "cell_type": "markdown",
   "metadata": {},
   "source": [
    "# Path Planning Testing"
   ]
  },
  {
   "cell_type": "code",
   "execution_count": 1,
   "metadata": {},
   "outputs": [],
   "source": [
    "from __init__ import *\n",
    "import chess\n",
    "from matplotlib import pyplot as plt\n",
    "board = WizBoard()\n",
    "planner = PathPlanner(board)"
   ]
  },
  {
   "cell_type": "code",
   "execution_count": 2,
   "metadata": {},
   "outputs": [],
   "source": [
    "def plot_paths(paths:list[Path]):\n",
    "    plt.figure(figsize=(3,3))\n",
    "    plt.axis([0,8,0,8])\n",
    "    for path in paths:\n",
    "        plt.plot([point[0] for point in path.points], [point[1] for point in path.points], 'o')    "
   ]
  },
  {
   "cell_type": "code",
   "execution_count": 4,
   "metadata": {},
   "outputs": [
    {
     "data": {
      "image/png": "[encoded data removed]",
      "text/plain": [
       "<Figure size 300x300 with 1 Axes>"
      ]
     },
     "metadata": {},
     "output_type": "display_data"
    }
   ],
   "source": [
    "move = chess.Move.from_uci('d5f6')\n",
    "end_square = move.to_square\n",
    "start_square = move.from_square\n",
    "listOfPoints = planner.single_path(start_square, end_square, \"NORMAL\")\n",
    "\n",
    "#points = planner.turn_paths(chess.Move.from_uci('b1c3'))\n",
    "# Plotting\n",
    "plot_paths([Path('', listOfPoints)])"
   ]
  },
  {
   "cell_type": "code",
   "execution_count": 5,
   "metadata": {},
   "outputs": [
    {
     "data": {
      "image/png": "[encoded data removed]",
      "text/plain": [
       "<Figure size 300x300 with 1 Axes>"
      ]
     },
     "metadata": {},
     "output_type": "display_data"
    },
    {
     "data": {
      "image/png": "[encoded data removed]",
      "text/plain": [
       "<Figure size 300x300 with 1 Axes>"
      ]
     },
     "metadata": {},
     "output_type": "display_data"
    }
   ],
   "source": [
    "move = chess.Move.from_uci('b1c3')\n",
    "end_square = move.to_square\n",
    "start_square = move.from_square\n",
    "listOfPoints = planner.single_path(start_square, end_square, \"NORMAL\")\n",
    "#points = planner.turn_paths(chess.Move.from_uci('b1c3'))\n",
    "# Plotting\n",
    "plot_paths([Path('', listOfPoints)])\n",
    "\n",
    "\n",
    "move = chess.Move.from_uci('c3d5')\n",
    "end_square = move.to_square\n",
    "start_square = move.from_square\n",
    "listOfPoints = planner.single_path(start_square, end_square, \"NORMAL\")\n",
    "#points = planner.turn_paths(chess.Move.from_uci('b1c3'))\n",
    "# Plotting\n",
    "plot_paths([Path('', listOfPoints)])"
   ]
  },
  {
   "cell_type": "code",
   "execution_count": null,
   "metadata": {},
   "outputs": [
    {
     "name": "stdout",
     "output_type": "stream",
     "text": [
      "r n b q k b n r\n",
      "p p p . p p p p\n",
      ". . . . . . . .\n",
      ". . . p . . . .\n",
      ". . . . . . . .\n",
      ". . N . . . . .\n",
      "P P P P P P P P\n",
      "R . B Q K B N R\n"
     ]
    },
    {
     "ename": "TypeError",
     "evalue": "'NoneType' object is not iterable",
     "output_type": "error",
     "traceback": [
      "\u001b[1;31m---------------------------------------------------------------------------\u001b[0m",
      "\u001b[1;31mTypeError\u001b[0m                                 Traceback (most recent call last)",
      "\u001b[1;32mc:\\Users\\emrie\\Desktop\\VS code\\arc-wizard-chess\\Fall 2023\\PathPlanning\\testing.ipynb Cell 6\u001b[0m line \u001b[0;36m5\n\u001b[0;32m      <a href='vscode-notebook-cell:/c%3A/Users/emrie/Desktop/VS%20code/arc-wizard-chess/Fall%202023/PathPlanning/testing.ipynb#W4sZmlsZQ%3D%3D?line=1'>2</a>\u001b[0m board\u001b[39m.\u001b[39mpush(chess\u001b[39m.\u001b[39mMove\u001b[39m.\u001b[39mfrom_uci(\u001b[39m'\u001b[39m\u001b[39md7d5\u001b[39m\u001b[39m'\u001b[39m))\n\u001b[0;32m      <a href='vscode-notebook-cell:/c%3A/Users/emrie/Desktop/VS%20code/arc-wizard-chess/Fall%202023/PathPlanning/testing.ipynb#W4sZmlsZQ%3D%3D?line=3'>4</a>\u001b[0m \u001b[39mprint\u001b[39m(board)\n\u001b[1;32m----> <a href='vscode-notebook-cell:/c%3A/Users/emrie/Desktop/VS%20code/arc-wizard-chess/Fall%202023/PathPlanning/testing.ipynb#W4sZmlsZQ%3D%3D?line=4'>5</a>\u001b[0m plot_paths(planner\u001b[39m.\u001b[39;49mturn_paths(chess\u001b[39m.\u001b[39;49mMove\u001b[39m.\u001b[39;49mfrom_uci(\u001b[39m'\u001b[39;49m\u001b[39mc3d5\u001b[39;49m\u001b[39m'\u001b[39;49m)))\n\u001b[0;32m      <a href='vscode-notebook-cell:/c%3A/Users/emrie/Desktop/VS%20code/arc-wizard-chess/Fall%202023/PathPlanning/testing.ipynb#W4sZmlsZQ%3D%3D?line=5'>6</a>\u001b[0m board\u001b[39m.\u001b[39mpush(chess\u001b[39m.\u001b[39mMove\u001b[39m.\u001b[39mfrom_uci(\u001b[39m'\u001b[39m\u001b[39mc3d5\u001b[39m\u001b[39m'\u001b[39m))\n\u001b[0;32m      <a href='vscode-notebook-cell:/c%3A/Users/emrie/Desktop/VS%20code/arc-wizard-chess/Fall%202023/PathPlanning/testing.ipynb#W4sZmlsZQ%3D%3D?line=6'>7</a>\u001b[0m \u001b[39mprint\u001b[39m(\u001b[39m'\u001b[39m\u001b[39m'\u001b[39m)\n",
      "\u001b[1;32mc:\\Users\\emrie\\Desktop\\VS code\\arc-wizard-chess\\Fall 2023\\PathPlanning\\testing.ipynb Cell 6\u001b[0m line \u001b[0;36m5\n\u001b[0;32m      <a href='vscode-notebook-cell:/c%3A/Users/emrie/Desktop/VS%20code/arc-wizard-chess/Fall%202023/PathPlanning/testing.ipynb#W4sZmlsZQ%3D%3D?line=2'>3</a>\u001b[0m plt\u001b[39m.\u001b[39maxis([\u001b[39m0\u001b[39m,\u001b[39m8\u001b[39m,\u001b[39m0\u001b[39m,\u001b[39m8\u001b[39m])\n\u001b[0;32m      <a href='vscode-notebook-cell:/c%3A/Users/emrie/Desktop/VS%20code/arc-wizard-chess/Fall%202023/PathPlanning/testing.ipynb#W4sZmlsZQ%3D%3D?line=3'>4</a>\u001b[0m \u001b[39mfor\u001b[39;00m path \u001b[39min\u001b[39;00m paths:\n\u001b[1;32m----> <a href='vscode-notebook-cell:/c%3A/Users/emrie/Desktop/VS%20code/arc-wizard-chess/Fall%202023/PathPlanning/testing.ipynb#W4sZmlsZQ%3D%3D?line=4'>5</a>\u001b[0m     plt\u001b[39m.\u001b[39mplot([point[\u001b[39m0\u001b[39m] \u001b[39mfor\u001b[39;00m point \u001b[39min\u001b[39;00m path\u001b[39m.\u001b[39mpoints], [point[\u001b[39m1\u001b[39m] \u001b[39mfor\u001b[39;00m point \u001b[39min\u001b[39;00m path\u001b[39m.\u001b[39mpoints], \u001b[39m'\u001b[39m\u001b[39mo\u001b[39m\u001b[39m'\u001b[39m)\n",
      "\u001b[1;31mTypeError\u001b[0m: 'NoneType' object is not iterable"
     ]
    },
    {
     "data": {
      "image/png": "[encoded data removed]",
      "text/plain": [
       "<Figure size 300x300 with 1 Axes>"
      ]
     },
     "metadata": {},
     "output_type": "display_data"
    }
   ],
   "source": [
    "board.push(chess.Move.from_uci('b1c3'))\n",
    "board.push(chess.Move.from_uci('d7d5'))\n",
    "\n",
    "print(board)\n",
    "plot_paths(planner.turn_paths(chess.Move.from_uci('c3d5')))\n",
    "board.push(chess.Move.from_uci('c3d5'))\n",
    "print('')\n",
    "print(board)\n",
    "print(board.piece_list)\n",
    "plot_paths(planner.turn_paths(chess.Move.from_uci('d8d5')))"
   ]
  }
 ],
 "metadata": {
  "kernelspec": {
   "display_name": "venv",
   "language": "python",
   "name": "python3"
  },
  "language_info": {
   "codemirror_mode": {
    "name": "ipython",
    "version": 3
   },
   "file_extension": ".py",
   "mimetype": "text/x-python",
   "name": "python",
   "nbconvert_exporter": "python",
   "pygments_lexer": "ipython3",
   "version": "3.11.6"
  }
 },
 "nbformat": 4,
 "nbformat_minor": 2
}
