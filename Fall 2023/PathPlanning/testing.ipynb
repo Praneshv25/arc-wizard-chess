{
 "cells": [
  {
   "cell_type": "code",
   "execution_count": null,
   "metadata": {},
   "outputs": [],
   "source": [
    "# Path Planning Testing"
   ]
  },
  {
   "cell_type": "code",
   "execution_count": 11,
   "metadata": {},
   "outputs": [],
   "source": [
    "from __init__ import *\n",
    "import chess\n",
    "board = WizBoard()\n",
    "planner = PathPlanner(board)"
   ]
  },
  {
   "cell_type": "code",
   "execution_count": 12,
   "metadata": {},
   "outputs": [
    {
     "ename": "UnboundLocalError",
     "evalue": "cannot access local variable 'changeRank' where it is not associated with a value",
     "output_type": "error",
     "traceback": [
      "\u001b[1;31m---------------------------------------------------------------------------\u001b[0m",
      "\u001b[1;31mUnboundLocalError\u001b[0m                         Traceback (most recent call last)",
      "\u001b[1;32mc:\\Users\\craig\\ARC\\wizard_chess\\arc-wizard-chess\\Fall 2023\\PathPlanning\\testing.ipynb Cell 3\u001b[0m line \u001b[0;36m1\n\u001b[1;32m----> <a href='vscode-notebook-cell:/c%3A/Users/craig/ARC/wizard_chess/arc-wizard-chess/Fall%202023/PathPlanning/testing.ipynb#W2sZmlsZQ%3D%3D?line=0'>1</a>\u001b[0m planner\u001b[39m.\u001b[39;49mturn_paths(chess\u001b[39m.\u001b[39;49mMove\u001b[39m.\u001b[39;49mfrom_uci(\u001b[39m'\u001b[39;49m\u001b[39mb1c3\u001b[39;49m\u001b[39m'\u001b[39;49m))\n",
      "File \u001b[1;32mc:\\Users\\craig\\ARC\\wizard_chess\\arc-wizard-chess\\Fall 2023\\PathPlanning\\path_planner.py:31\u001b[0m, in \u001b[0;36mPathPlanner.turn_paths\u001b[1;34m(self, move)\u001b[0m\n\u001b[0;32m     28\u001b[0m \u001b[39m# Handle Castle\u001b[39;00m\n\u001b[0;32m     29\u001b[0m \u001b[39m# Handle Standard moves\u001b[39;00m\n\u001b[0;32m     30\u001b[0m piece_type \u001b[39m=\u001b[39m \u001b[39mself\u001b[39m\u001b[39m.\u001b[39mboard\u001b[39m.\u001b[39mpiece_at(move\u001b[39m.\u001b[39mfrom_square)\u001b[39m.\u001b[39mpiece_type\n\u001b[1;32m---> 31\u001b[0m waypoints \u001b[39m+\u001b[39m\u001b[39m=\u001b[39m [Waypoint(\u001b[39mself\u001b[39m\u001b[39m.\u001b[39mboard\u001b[39m.\u001b[39mpiece_list[move\u001b[39m.\u001b[39mfrom_square], point) \u001b[39mfor\u001b[39;00m point \u001b[39min\u001b[39;00m \u001b[39mself\u001b[39;49m\u001b[39m.\u001b[39;49msingle_path(piece_type, move\u001b[39m.\u001b[39;49mfrom_square, move\u001b[39m.\u001b[39;49mto_square)]\n\u001b[0;32m     33\u001b[0m \u001b[39mreturn\u001b[39;00m waypoints\n",
      "File \u001b[1;32mc:\\Users\\craig\\ARC\\wizard_chess\\arc-wizard-chess\\Fall 2023\\PathPlanning\\path_planner.py:79\u001b[0m, in \u001b[0;36mPathPlanner.single_path\u001b[1;34m(self, piece_type, start, target, capture)\u001b[0m\n\u001b[0;32m     76\u001b[0m         currentFile \u001b[39m+\u001b[39m\u001b[39m=\u001b[39m fileDirection\n\u001b[0;32m     78\u001b[0m \u001b[39m#Locates the 'change square' of the L movement from the knight\u001b[39;00m\n\u001b[1;32m---> 79\u001b[0m \u001b[39mif\u001b[39;00m (\u001b[39mabs\u001b[39m(changeRank) \u001b[39m==\u001b[39m \u001b[39m2\u001b[39m):\n\u001b[0;32m     80\u001b[0m     changeRank \u001b[39m=\u001b[39m startRank \u001b[39m+\u001b[39m \u001b[39m2\u001b[39m \u001b[39m*\u001b[39m rankDirection\n\u001b[0;32m     81\u001b[0m     \u001b[39m#changeFile = startFile + fileDirection\u001b[39;00m\n",
      "\u001b[1;31mUnboundLocalError\u001b[0m: cannot access local variable 'changeRank' where it is not associated with a value"
     ]
    }
   ],
   "source": [
    "planner.turn_paths(chess.Move.from_uci('b1c3'))"
   ]
  }
 ],
 "metadata": {
  "kernelspec": {
   "display_name": "venv",
   "language": "python",
   "name": "python3"
  },
  "language_info": {
   "codemirror_mode": {
    "name": "ipython",
    "version": 3
   },
   "file_extension": ".py",
   "mimetype": "text/x-python",
   "name": "python",
   "nbconvert_exporter": "python",
   "pygments_lexer": "ipython3",
   "version": "3.11.1"
  }
 },
 "nbformat": 4,
 "nbformat_minor": 2
}
