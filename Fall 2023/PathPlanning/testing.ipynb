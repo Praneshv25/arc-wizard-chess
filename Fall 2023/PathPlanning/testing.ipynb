{
 "cells": [
  {
   "cell_type": "markdown",
   "metadata": {},
   "source": [
    "# Path Planning Testing"
   ]
  },
  {
   "cell_type": "code",
   "execution_count": 1,
   "metadata": {},
   "outputs": [],
   "source": [
    "from __init__ import *\n",
    "import chess\n",
    "from matplotlib import pyplot as plt\n",
    "board = WizBoard()\n",
    "planner = PathPlanner(board)"
   ]
  },
  {
   "cell_type": "code",
   "execution_count": 2,
   "metadata": {},
   "outputs": [],
   "source": [
    "def plot_paths(paths:list[Path]):\n",
    "    plt.figure(figsize=(3,3))\n",
    "    plt.axis([0,8,0,8])\n",
    "    for path in paths:\n",
    "        plt.plot([point[0] for point in path.points], [point[1] for point in path.points], 'o')    "
   ]
  },
  {
   "cell_type": "code",
   "execution_count": 3,
   "metadata": {},
   "outputs": [
    {
     "data": {
      "image/png": "[encoded data removed]",
      "text/plain": [
       "<Figure size 300x300 with 1 Axes>"
      ]
     },
     "metadata": {},
     "output_type": "display_data"
    }
   ],
   "source": [
    "move = chess.Move.from_uci('d5f6')\n",
    "end_square = move.to_square\n",
    "start_square = move.from_square\n",
    "listOfPoints = planner.single_path(start_square, end_square, False)\n",
    "\n",
    "#points = planner.turn_paths(chess.Move.from_uci('b1c3'))\n",
    "# Plotting\n",
    "plot_paths([Path('', listOfPoints)])"
   ]
  },
  {
   "cell_type": "code",
   "execution_count": 4,
   "metadata": {},
   "outputs": [
    {
     "name": "stdout",
     "output_type": "stream",
     "text": [
      "r n b q k b n r\n",
      "p p p . p p p p\n",
      ". . . . . . . .\n",
      ". . . p . . . .\n",
      ". . . . . . . .\n",
      ". . N . . . . .\n",
      "P P P P P P P P\n",
      "R . B Q K B N R\n",
      "\n",
      "r n b q k b n r\n",
      "p p p . p p p p\n",
      ". . . . . . . .\n",
      ". . . N . . . .\n",
      ". . . . . . . .\n",
      ". . . . . . . .\n",
      "P P P P P P P P\n",
      "R . B Q K B N R\n",
      "['R1', '', 'B1', 'Q', 'K', 'B2', 'N2', 'R2', 'P1', 'P1', 'P3', 'P4', 'P5', 'P6', 'P7', 'P8', '', '', '', '', '', '', '', '', '', '', '', '', '', '', '', '', '', '', '', 'N1', '', '', '', '', '', '', '', '', '', '', '', '', 'p1', 'p2', 'p3', '', 'p5', 'p6', 'p7', 'p8', 'r1', 'n1', 'b1', 'q', 'k', 'b2', 'n2', 'r2', 'p4', '', '', '', '', '', '', '', '', '', '', '', '', '', '', '', '', '', '', '', '', '', '', '', '', '', '', '', '', '', '', '']\n"
     ]
    },
    {
     "data": {
      "image/png": "[encoded data removed]",
      "text/plain": [
       "<Figure size 300x300 with 1 Axes>"
      ]
     },
     "metadata": {},
     "output_type": "display_data"
    },
    {
     "data": {
      "image/png": "[encoded data removed]",
      "text/plain": [
       "<Figure size 300x300 with 1 Axes>"
      ]
     },
     "metadata": {},
     "output_type": "display_data"
    }
   ],
   "source": [
    "board.push(chess.Move.from_uci('b1c3'))\n",
    "board.push(chess.Move.from_uci('d7d5'))\n",
    "\n",
    "print(board)\n",
    "plot_paths(planner.turn_paths(chess.Move.from_uci('c3d5')))\n",
    "board.push(chess.Move.from_uci('c3d5'))\n",
    "print('')\n",
    "print(board)\n",
    "print(board.piece_list)\n",
    "plot_paths(planner.turn_paths(chess.Move.from_uci('d8d5')))"
   ]
  }
 ],
 "metadata": {
  "kernelspec": {
   "display_name": "venv",
   "language": "python",
   "name": "python3"
  },
  "language_info": {
   "codemirror_mode": {
    "name": "ipython",
    "version": 3
   },
   "file_extension": ".py",
   "mimetype": "text/x-python",
   "name": "python",
   "nbconvert_exporter": "python",
   "pygments_lexer": "ipython3",
   "version": "3.11.1"
  }
 },
 "nbformat": 4,
 "nbformat_minor": 2
}
