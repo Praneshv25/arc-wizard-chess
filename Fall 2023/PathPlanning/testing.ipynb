{
 "cells": [
  {
   "cell_type": "code",
   "execution_count": 1,
   "metadata": {},
   "outputs": [],
   "source": [
    "# Path Planning Testing"
   ]
  },
  {
   "cell_type": "code",
   "execution_count": 2,
   "metadata": {},
   "outputs": [],
   "source": [
    "from __init__ import *\n",
    "import chess\n",
    "from matplotlib import pyplot as plt\n",
    "board = WizBoard()\n",
    "planner = PathPlanner(board)"
   ]
  },
  {
   "cell_type": "code",
   "execution_count": 3,
   "metadata": {},
   "outputs": [],
   "source": [
    "def plot_path(waypoints:list[Path]):\n",
    "    plt.figure(figsize=(3,3))\n",
    "    plt.axis([0,8,0,8])\n",
    "    plt.plot([point.point[0] for point in waypoints], [point.point[1] for point in waypoints], 'bo')"
   ]
  },
  {
   "cell_type": "code",
   "execution_count": 4,
   "metadata": {},
   "outputs": [
    {
     "ename": "AttributeError",
     "evalue": "'tuple' object has no attribute 'point'",
     "output_type": "error",
     "traceback": [
      "\u001b[1;31m---------------------------------------------------------------------------\u001b[0m",
      "\u001b[1;31mAttributeError\u001b[0m                            Traceback (most recent call last)",
      "\u001b[1;32mc:\\Users\\emrie\\Desktop\\VS code\\arc-wizard-chess\\Fall 2023\\PathPlanning\\testing.ipynb Cell 4\u001b[0m line \u001b[0;36m8\n\u001b[0;32m      <a href='vscode-notebook-cell:/c%3A/Users/emrie/Desktop/VS%20code/arc-wizard-chess/Fall%202023/PathPlanning/testing.ipynb#W3sZmlsZQ%3D%3D?line=3'>4</a>\u001b[0m listOfPoints \u001b[39m=\u001b[39m planner\u001b[39m.\u001b[39msingle_path(chess\u001b[39m.\u001b[39mKNIGHT, start_square, end_square, \u001b[39mFalse\u001b[39;00m)\n\u001b[0;32m      <a href='vscode-notebook-cell:/c%3A/Users/emrie/Desktop/VS%20code/arc-wizard-chess/Fall%202023/PathPlanning/testing.ipynb#W3sZmlsZQ%3D%3D?line=5'>6</a>\u001b[0m \u001b[39m#points = planner.turn_paths(chess.Move.from_uci('b1c3'))\u001b[39;00m\n\u001b[0;32m      <a href='vscode-notebook-cell:/c%3A/Users/emrie/Desktop/VS%20code/arc-wizard-chess/Fall%202023/PathPlanning/testing.ipynb#W3sZmlsZQ%3D%3D?line=6'>7</a>\u001b[0m \u001b[39m# Plotting\u001b[39;00m\n\u001b[1;32m----> <a href='vscode-notebook-cell:/c%3A/Users/emrie/Desktop/VS%20code/arc-wizard-chess/Fall%202023/PathPlanning/testing.ipynb#W3sZmlsZQ%3D%3D?line=7'>8</a>\u001b[0m plot_path(listOfPoints)\n",
      "\u001b[1;32mc:\\Users\\emrie\\Desktop\\VS code\\arc-wizard-chess\\Fall 2023\\PathPlanning\\testing.ipynb Cell 4\u001b[0m line \u001b[0;36m4\n\u001b[0;32m      <a href='vscode-notebook-cell:/c%3A/Users/emrie/Desktop/VS%20code/arc-wizard-chess/Fall%202023/PathPlanning/testing.ipynb#W3sZmlsZQ%3D%3D?line=1'>2</a>\u001b[0m plt\u001b[39m.\u001b[39mfigure(figsize\u001b[39m=\u001b[39m(\u001b[39m3\u001b[39m,\u001b[39m3\u001b[39m))\n\u001b[0;32m      <a href='vscode-notebook-cell:/c%3A/Users/emrie/Desktop/VS%20code/arc-wizard-chess/Fall%202023/PathPlanning/testing.ipynb#W3sZmlsZQ%3D%3D?line=2'>3</a>\u001b[0m plt\u001b[39m.\u001b[39maxis([\u001b[39m0\u001b[39m,\u001b[39m8\u001b[39m,\u001b[39m0\u001b[39m,\u001b[39m8\u001b[39m])\n\u001b[1;32m----> <a href='vscode-notebook-cell:/c%3A/Users/emrie/Desktop/VS%20code/arc-wizard-chess/Fall%202023/PathPlanning/testing.ipynb#W3sZmlsZQ%3D%3D?line=3'>4</a>\u001b[0m plt\u001b[39m.\u001b[39mplot([point\u001b[39m.\u001b[39;49mpoint[\u001b[39m0\u001b[39;49m] \u001b[39mfor\u001b[39;49;00m point \u001b[39min\u001b[39;49;00m waypoints], [point\u001b[39m.\u001b[39mpoint[\u001b[39m1\u001b[39m] \u001b[39mfor\u001b[39;00m point \u001b[39min\u001b[39;00m waypoints], \u001b[39m'\u001b[39m\u001b[39mbo\u001b[39m\u001b[39m'\u001b[39m)\n",
      "\u001b[1;32mc:\\Users\\emrie\\Desktop\\VS code\\arc-wizard-chess\\Fall 2023\\PathPlanning\\testing.ipynb Cell 4\u001b[0m line \u001b[0;36m4\n\u001b[0;32m      <a href='vscode-notebook-cell:/c%3A/Users/emrie/Desktop/VS%20code/arc-wizard-chess/Fall%202023/PathPlanning/testing.ipynb#W3sZmlsZQ%3D%3D?line=1'>2</a>\u001b[0m plt\u001b[39m.\u001b[39mfigure(figsize\u001b[39m=\u001b[39m(\u001b[39m3\u001b[39m,\u001b[39m3\u001b[39m))\n\u001b[0;32m      <a href='vscode-notebook-cell:/c%3A/Users/emrie/Desktop/VS%20code/arc-wizard-chess/Fall%202023/PathPlanning/testing.ipynb#W3sZmlsZQ%3D%3D?line=2'>3</a>\u001b[0m plt\u001b[39m.\u001b[39maxis([\u001b[39m0\u001b[39m,\u001b[39m8\u001b[39m,\u001b[39m0\u001b[39m,\u001b[39m8\u001b[39m])\n\u001b[1;32m----> <a href='vscode-notebook-cell:/c%3A/Users/emrie/Desktop/VS%20code/arc-wizard-chess/Fall%202023/PathPlanning/testing.ipynb#W3sZmlsZQ%3D%3D?line=3'>4</a>\u001b[0m plt\u001b[39m.\u001b[39mplot([point\u001b[39m.\u001b[39;49mpoint[\u001b[39m0\u001b[39m] \u001b[39mfor\u001b[39;00m point \u001b[39min\u001b[39;00m waypoints], [point\u001b[39m.\u001b[39mpoint[\u001b[39m1\u001b[39m] \u001b[39mfor\u001b[39;00m point \u001b[39min\u001b[39;00m waypoints], \u001b[39m'\u001b[39m\u001b[39mbo\u001b[39m\u001b[39m'\u001b[39m)\n",
      "\u001b[1;31mAttributeError\u001b[0m: 'tuple' object has no attribute 'point'"
     ]
    },
    {
     "data": {
      "image/png": "[encoded data removed]",
      "text/plain": [
       "<Figure size 300x300 with 1 Axes>"
      ]
     },
     "metadata": {},
     "output_type": "display_data"
    }
   ],
   "source": [
    "move = chess.Move.from_uci('d5f6')\n",
    "end_square = move.to_square\n",
    "start_square = move.from_square\n",
    "listOfPoints = planner.single_path(chess.KNIGHT, start_square, end_square, False)\n",
    "\n",
    "#points = planner.turn_paths(chess.Move.from_uci('b1c3'))\n",
    "# Plotting\n",
    "plot_path(listOfPoints)"
   ]
  }
 ],
 "metadata": {
  "kernelspec": {
   "display_name": "venv",
   "language": "python",
   "name": "python3"
  },
  "language_info": {
   "codemirror_mode": {
    "name": "ipython",
    "version": 3
   },
   "file_extension": ".py",
   "mimetype": "text/x-python",
   "name": "python",
   "nbconvert_exporter": "python",
   "pygments_lexer": "ipython3",
   "version": "3.11.6"
  }
 },
 "nbformat": 4,
 "nbformat_minor": 2
}
